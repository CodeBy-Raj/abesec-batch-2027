{
 "cells": [
  {
   "cell_type": "markdown",
   "metadata": {},
   "source": [
    "## Introduction to Javascript"
   ]
  },
  {
   "cell_type": "code",
   "execution_count": 1,
   "metadata": {},
   "outputs": [
    {
     "name": "stdout",
     "output_type": "stream",
     "text": [
      "Hello, World!\n"
     ]
    }
   ],
   "source": [
    "console.log(\"Hello, World!\");"
   ]
  },
  {
   "cell_type": "markdown",
   "metadata": {},
   "source": [
    "## Variables in Javascript"
   ]
  },
  {
   "cell_type": "code",
   "execution_count": 2,
   "metadata": {},
   "outputs": [
    {
     "name": "stdout",
     "output_type": "stream",
     "text": [
      "The sum of a and b is: 30\n"
     ]
    }
   ],
   "source": [
    "var a = 10;\n",
    "var b = 20;\n",
    "var c = a + b;\n",
    "console.log(\"The sum of a and b is: \" + c);"
   ]
  },
  {
   "cell_type": "code",
   "execution_count": null,
   "metadata": {},
   "outputs": [
    {
     "name": "stdout",
     "output_type": "stream",
     "text": [
      "string\n",
      "boolean\n",
      "number\n"
     ]
    }
   ],
   "source": [
    "var myName = \"John Doe\";\n",
    "console.log(typeof(myName));\n",
    "var isActive = true;\n",
    "console.log(typeof(isActive));\n",
    "var a = 10;\n",
    "console.log(typeof(a));"
   ]
  },
  {
   "cell_type": "code",
   "execution_count": null,
   "metadata": {},
   "outputs": [
    {
     "ename": "TypeError",
     "evalue": "Assignment to constant variable.",
     "output_type": "error",
     "traceback": [
      "Stack trace:",
      "TypeError: Assignment to constant variable.",
      "    at <anonymous>:6:4"
     ]
    }
   ],
   "source": [
    "var a1 = 10;\n",
    "let b1 = 20;\n",
    "const c1 = 30;\n",
    "a1 = 15; // this is allowed\n",
    "b1 = 25; // this is allowed\n",
    "c1 = 35; // this is not allowed, will throw an error\n",
    "console.log(a1);\n",
    "console.log(b1);\n",
    "console.log(c1);"
   ]
  },
  {
   "cell_type": "code",
   "execution_count": 12,
   "metadata": {},
   "outputs": [
    {
     "name": "stdout",
     "output_type": "stream",
     "text": [
      "20\n",
      "10\n"
     ]
    }
   ],
   "source": [
    "var num = 10;\n",
    "var num2 = num;\n",
    "num = 20;\n",
    "console.log(num);\n",
    "console.log(num2);"
   ]
  },
  {
   "cell_type": "markdown",
   "metadata": {},
   "source": [
    "## Quick Overview of Functions in Javascript"
   ]
  },
  {
   "cell_type": "code",
   "execution_count": 13,
   "metadata": {},
   "outputs": [
    {
     "name": "stdout",
     "output_type": "stream",
     "text": [
      "30\n"
     ]
    }
   ],
   "source": [
    "function add(a, b) {\n",
    "    return a + b;\n",
    "}\n",
    "\n",
    "console.log(add(10, 20));\n",
    "\n",
    "/**\n",
    " * Java code\n",
    " * \n",
    " * public int add(int a, int b) {\n",
    " *   return a + b;\n",
    " * }\n",
    " */\n"
   ]
  },
  {
   "cell_type": "code",
   "execution_count": 14,
   "metadata": {},
   "outputs": [
    {
     "name": "stdout",
     "output_type": "stream",
     "text": [
      "30\n"
     ]
    }
   ],
   "source": [
    "var sum = add(15, 15);\n",
    "console.log(sum);"
   ]
  },
  {
   "cell_type": "code",
   "execution_count": 15,
   "metadata": {},
   "outputs": [
    {
     "name": "stdout",
     "output_type": "stream",
     "text": [
      "My name is John Doe\n",
      "My name is Jane Doe\n"
     ]
    }
   ],
   "source": [
    "function printMyName(name) {\n",
    "    console.log(\"My name is \" + name);\n",
    "}\n",
    "\n",
    "printMyName(\"John Doe\");\n",
    "printMyName(\"Jane Doe\");"
   ]
  },
  {
   "cell_type": "code",
   "execution_count": null,
   "metadata": {},
   "outputs": [
    {
     "name": "stdout",
     "output_type": "stream",
     "text": [
      "10 is even\n",
      "15 is odd\n"
     ]
    }
   ],
   "source": [
    "function isEven(num) {\n",
    "    if (num % 2 === 0) {\n",
    "        console.log(num + \" is even\");\n",
    "    } else {\n",
    "        console.log(num + \" is odd\");\n",
    "    }\n",
    "}\n",
    "\n",
    "isEven(10);\n",
    "isEven(15);"
   ]
  },
  {
   "cell_type": "code",
   "execution_count": 18,
   "metadata": {},
   "outputs": [
    {
     "name": "stdout",
     "output_type": "stream",
     "text": [
      "Apple\n",
      "The fruit name is Apple\n"
     ]
    }
   ],
   "source": [
    "var fruitName = \"Mango\";\n",
    "\n",
    "function printFruitName() {\n",
    "    console.log(\"The fruit name is \" + fruitName);\n",
    "}\n",
    "\n",
    "fruitName = \"Apple\"; \n",
    "console.log(fruitName);\n",
    "\n",
    "printFruitName();"
   ]
  },
  {
   "cell_type": "code",
   "execution_count": 20,
   "metadata": {},
   "outputs": [
    {
     "name": "stdout",
     "output_type": "stream",
     "text": [
      "10\n"
     ]
    }
   ],
   "source": [
    "function dummyFunction() {\n",
    "    if(true) {\n",
    "        var x  = 10;\n",
    "    }\n",
    "    console.log(x);\n",
    "}\n",
    "\n",
    "dummyFunction();"
   ]
  },
  {
   "cell_type": "code",
   "execution_count": null,
   "metadata": {},
   "outputs": [
    {
     "name": "stdout",
     "output_type": "stream",
     "text": [
      "10\n"
     ]
    }
   ],
   "source": [
    "function dummyFunction() {\n",
    "    let x  = 10;\n",
    "    if(true) {\n",
    "        let y = 20;\n",
    "    }\n",
    "    console.log(x);\n",
    "}\n",
    "\n",
    "dummyFunction();"
   ]
  },
  {
   "cell_type": "code",
   "execution_count": null,
   "metadata": {},
   "outputs": [
    {
     "name": "stdout",
     "output_type": "stream",
     "text": [
      "undefined\n",
      "10\n",
      "10\n",
      "10\n"
     ]
    }
   ],
   "source": [
    "function dummyFunction() {\n",
    "    if(true) {\n",
    "        console.log(x); // undefined\n",
    "        if(true) {\n",
    "            var x  = 10;\n",
    "            console.log(x); // 10\n",
    "        } \n",
    "        console.log(x); // 10\n",
    "    }\n",
    "    console.log(x); // 10\n",
    "}\n",
    "dummyFunction();"
   ]
  },
  {
   "cell_type": "code",
   "execution_count": 29,
   "metadata": {},
   "outputs": [
    {
     "name": "stdout",
     "output_type": "stream",
     "text": [
      "10\n",
      "20\n"
     ]
    }
   ],
   "source": [
    "function dummyFunction() {\n",
    "    var x = 20;\n",
    "    if(true) {\n",
    "        let x = 10;\n",
    "        console.log(x);\n",
    "    }\n",
    "    console.log(x); \n",
    "}\n",
    "dummyFunction();"
   ]
  },
  {
   "cell_type": "code",
   "execution_count": null,
   "metadata": {},
   "outputs": [
    {
     "name": "stdout",
     "output_type": "stream",
     "text": [
      "10\n",
      "10\n"
     ]
    }
   ],
   "source": [
    "function dummyFunction() {\n",
    "    var x = 20; // deferred\n",
    "    if(true) {\n",
    "        var x = 10;\n",
    "        console.log(x);\n",
    "    }\n",
    "    console.log(x); \n",
    "}\n",
    "dummyFunction();"
   ]
  },
  {
   "cell_type": "code",
   "execution_count": 33,
   "metadata": {},
   "outputs": [
    {
     "name": "stdout",
     "output_type": "stream",
     "text": [
      "20\n",
      "10\n",
      "10\n"
     ]
    }
   ],
   "source": [
    "function dummyFunction() {\n",
    "    var x = 20; // deferred\n",
    "    console.log(x); \n",
    "    if(true) {\n",
    "        var x = 10;\n",
    "        console.log(x);\n",
    "    }\n",
    "    console.log(x);\n",
    "}\n",
    "dummyFunction();"
   ]
  },
  {
   "cell_type": "code",
   "execution_count": 34,
   "metadata": {},
   "outputs": [
    {
     "name": "stdout",
     "output_type": "stream",
     "text": [
      "20\n",
      "10\n",
      "20\n"
     ]
    }
   ],
   "source": [
    "function dummyFunction() {\n",
    "    var x = 20; // deferred\n",
    "    console.log(x); \n",
    "    if(true) {\n",
    "        let x = 10;\n",
    "        console.log(x);\n",
    "    }\n",
    "    console.log(x);\n",
    "}\n",
    "dummyFunction();"
   ]
  },
  {
   "cell_type": "code",
   "execution_count": 35,
   "metadata": {},
   "outputs": [
    {
     "name": "stdout",
     "output_type": "stream",
     "text": [
      "20\n",
      "20\n",
      "20\n"
     ]
    }
   ],
   "source": [
    "function dummyFunction() {\n",
    "    const x = 20; \n",
    "    console.log(x); \n",
    "    if(true) {\n",
    "        console.log(x);\n",
    "    }\n",
    "    console.log(x);\n",
    "}\n",
    "dummyFunction();"
   ]
  },
  {
   "cell_type": "code",
   "execution_count": null,
   "metadata": {},
   "outputs": [
    {
     "name": "stdout",
     "output_type": "stream",
     "text": [
      "20\n",
      "10\n",
      "20\n"
     ]
    }
   ],
   "source": [
    "function dummyFunction() {\n",
    "    const x = 20; \n",
    "    console.log(x); \n",
    "    if(true) {\n",
    "        let x = 10;\n",
    "        console.log(x);\n",
    "    }\n",
    "    console.log(x);\n",
    "}\n",
    "dummyFunction();"
   ]
  },
  {
   "cell_type": "code",
   "execution_count": 38,
   "metadata": {},
   "outputs": [
    {
     "ename": "SyntaxError",
     "evalue": "Identifier 'x' has already been declared",
     "output_type": "error",
     "traceback": [
      "Stack trace:",
      "SyntaxError: Identifier 'x' has already been declared"
     ]
    }
   ],
   "source": [
    "function dummyFunction() {\n",
    "    const x = 20; \n",
    "    console.log(x); \n",
    "    if(true) {\n",
    "        var x = 10;\n",
    "        console.log(x);\n",
    "    }\n",
    "    console.log(x);\n",
    "}\n",
    "dummyFunction();"
   ]
  },
  {
   "cell_type": "code",
   "execution_count": null,
   "metadata": {},
   "outputs": [],
   "source": [
    "function add(a: number, b: number): number {\n",
    "    return a + b;   \n",
    "}"
   ]
  },
  {
   "cell_type": "code",
   "execution_count": null,
   "metadata": {},
   "outputs": [
    {
     "name": "stdout",
     "output_type": "stream",
     "text": [
      "1001\n"
     ]
    }
   ],
   "source": [
    "var a = 1000;\n",
    "a++;\n",
    "console.log(a);"
   ]
  },
  {
   "cell_type": "code",
   "execution_count": 41,
   "metadata": {},
   "outputs": [
    {
     "name": "stdout",
     "output_type": "stream",
     "text": [
      "number\n",
      "object\n",
      "string\n",
      "object\n"
     ]
    }
   ],
   "source": [
    "// In Java\n",
    "// int a = 10; // primitive data type\n",
    "// Integer a = new Integer(10); // creating a object using wrapper class\n",
    "\n",
    "// In JavaScript\n",
    "var a = 10; // primitive data type\n",
    "var b = new Number(10); // creating a object using wrapper class\n",
    "\n",
    "var myCollegeName = \"ABES Engineering College\";\n",
    "var myCompanyName = new String(\"Atlassian\");\n",
    "\n",
    "console.log(typeof(a));\n",
    "console.log(typeof(b));\n",
    "console.log(typeof(myCollegeName));\n",
    "console.log(typeof(myCompanyName));\n"
   ]
  },
  {
   "cell_type": "code",
   "execution_count": null,
   "metadata": {},
   "outputs": [],
   "source": [
    "type Org = {\n",
    "    name: string;\n",
    "    code: string;\n",
    "    isActive: boolean;\n",
    "}\n",
    "\n",
    "function findOrganisationsWithSomething(): Org[] {\n",
    "    jhfjlhahslfhlashjghvk\n",
    "    sfgdafsgda\n",
    "    agbdfshbsgdf\n",
    "    dsfghdfshbsd\n",
    "    dshsdgfhsdhs\n",
    "\n",
    "    res = axios.put(\"https://jsonplaceholder.typicode.com/posts/1\"); // list of organisations\n",
    "    resizeBy[Symbol]...arguments.length.toFixed[Symbol]...arguments\n",
    "    awdfa\n",
    "    getComputedStyleg\n",
    "    removeEventListener\n",
    "\n",
    "\n",
    "\n",
    "    return finalResponse;\n",
    "}"
   ]
  },
  {
   "cell_type": "code",
   "execution_count": null,
   "metadata": {},
   "outputs": [],
   "source": [
    "function myCode() {\n",
    "\n",
    "    // some code\n",
    "    // some code\n",
    "    // some code\n",
    "    // some code\n",
    "    // some code\n",
    "    // some code\n",
    "    // some code\n",
    "\n",
    "    \n",
    "    var res: Org[] = findOrganisationsWithSomething(orgIds);\n",
    "    // some code\n",
    "    // some code    \n",
    "\n",
    "\n",
    "\n",
    "}"
   ]
  },
  {
   "cell_type": "code",
   "execution_count": 43,
   "metadata": {},
   "outputs": [
    {
     "name": "stdout",
     "output_type": "stream",
     "text": [
      "object\n"
     ]
    }
   ],
   "source": [
    "var somevar = {};\n",
    "console.log(typeof(somevar));"
   ]
  },
  {
   "cell_type": "code",
   "execution_count": 47,
   "metadata": {},
   "outputs": [
    {
     "name": "stdout",
     "output_type": "stream",
     "text": [
      "{ name: \"Aakash Verma\", age: 26, isActive: true }\n",
      "Aakash Verma\n",
      "Aakash Verma\n"
     ]
    }
   ],
   "source": [
    "var person = {name: \"Aakash Verma\", age: 26, isActive: true};\n",
    "console.log(person);\n",
    "console.log(person.name);\n",
    "console.log(person[\"name\"]);"
   ]
  },
  {
   "cell_type": "code",
   "execution_count": 50,
   "metadata": {},
   "outputs": [
    {
     "name": "stdout",
     "output_type": "stream",
     "text": [
      "Aakash Verma\n",
      "26\n",
      "true\n",
      "{ city: \"Modinagar\", state: \"UP\" }\n",
      "Modinagar\n",
      "UP\n",
      "Modinagar\n"
     ]
    }
   ],
   "source": [
    "var person = {name: \"Aakash Verma\", age: 26, isActive: true, address: {city: \"Modinagar\", state: \"UP\"}};\n",
    "console.log(person.name);\n",
    "console.log(person.age);\n",
    "console.log(person.isActive);\n",
    "console.log(person.address);\n",
    "console.log(person.address.city);\n",
    "console.log(person.address.state);\n",
    "console.log(person[\"address\"][\"city\"]);"
   ]
  },
  {
   "cell_type": "code",
   "execution_count": 51,
   "metadata": {},
   "outputs": [
    {
     "name": "stdout",
     "output_type": "stream",
     "text": [
      "80\n",
      "90\n",
      "85\n"
     ]
    }
   ],
   "source": [
    "var student = {\n",
    "    name: \"Aakash Verma\",\n",
    "    age: 26,\n",
    "    isActive: true,\n",
    "    address: {\n",
    "        city: \"Modinagar\",\n",
    "        state: \"UP\"\n",
    "    },\n",
    "    subjects: [\"Math\", \"Science\", \"English\"],\n",
    "    semesterWiseMarks: {\n",
    "        semester1: [80, 90, 85],\n",
    "        semester2: [70, 75, 80]\n",
    "    }\n",
    "};\n",
    "\n",
    "console.log(student.semesterWiseMarks.semester1[0]);\n",
    "console.log(student.semesterWiseMarks.semester1[1]);\n",
    "console.log(student.semesterWiseMarks.semester1[2]);"
   ]
  },
  {
   "cell_type": "code",
   "execution_count": null,
   "metadata": {},
   "outputs": [],
   "source": []
  }
 ],
 "metadata": {
  "kernelspec": {
   "display_name": "Deno",
   "language": "typescript",
   "name": "deno"
  },
  "language_info": {
   "codemirror_mode": "typescript",
   "file_extension": ".ts",
   "mimetype": "text/x.typescript",
   "name": "typescript",
   "nbconvert_exporter": "script",
   "pygments_lexer": "typescript",
   "version": "5.7.3"
  }
 },
 "nbformat": 4,
 "nbformat_minor": 2
}
